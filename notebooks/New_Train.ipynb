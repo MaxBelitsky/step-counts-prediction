{
  "nbformat": 4,
  "nbformat_minor": 0,
  "metadata": {
    "colab": {
      "name": "New Train.ipynb",
      "provenance": [],
      "collapsed_sections": []
    },
    "kernelspec": {
      "name": "python3",
      "display_name": "Python 3"
    },
    "language_info": {
      "name": "python"
    }
  },
  "cells": [
    {
      "cell_type": "code",
      "metadata": {
        "id": "Hxrhp4eJ2YS6"
      },
      "source": [
        "from datetime import date, datetime as dt, timedelta as td\n",
        "import pytz\n",
        "import time\n",
        "import pandas as pd\n",
        "import numpy as np\n",
        "import matplotlib.pyplot as plt\n",
        "from math import sqrt\n",
        "import warnings\n",
        "warnings.filterwarnings(\"ignore\")\n",
        "\n",
        "from sklearn.metrics import mean_squared_error, mean_absolute_error\n",
        "from sklearn.preprocessing import MinMaxScaler, StandardScaler\n",
        "import keras\n",
        "from keras.models import Sequential\n",
        "from keras.layers import Dense, LSTM, Bidirectional, SimpleRNN, Flatten, TimeDistributed, ConvLSTM2D, Dropout\n",
        "from keras.layers.convolutional import Conv1D, MaxPooling1D\n",
        "from keras.callbacks import EarlyStopping\n",
        "from keras.optimizers import Adam\n",
        "from keras.utils import to_categorical"
      ],
      "execution_count": null,
      "outputs": []
    },
    {
      "cell_type": "code",
      "metadata": {
        "colab": {
          "base_uri": "https://localhost:8080/"
        },
        "id": "i9_x9cA72Z3p",
        "outputId": "f6190000-43aa-4807-d214-1a37a37e18e0"
      },
      "source": [
        "from google.colab import drive\n",
        "drive.mount('/content/drive')"
      ],
      "execution_count": null,
      "outputs": [
        {
          "output_type": "stream",
          "text": [
            "Mounted at /content/drive\n"
          ],
          "name": "stdout"
        }
      ]
    },
    {
      "cell_type": "markdown",
      "metadata": {
        "id": "JL9dBeHM3REd"
      },
      "source": [
        "# Preprocessing functions"
      ]
    },
    {
      "cell_type": "code",
      "metadata": {
        "id": "yXDCrs7t2djO"
      },
      "source": [
        "PATH = 'drive/MyDrive/Colab Notebooks/StepCount.csv'\n",
        "data = pd.read_csv(PATH)"
      ],
      "execution_count": null,
      "outputs": []
    },
    {
      "cell_type": "code",
      "metadata": {
        "id": "ju6uAMZr2l9d"
      },
      "source": [
        "def convert_steps(steps, grouping=['date']):\n",
        "  convert_tz = lambda x: x.to_pydatetime().replace(tzinfo=pytz.utc).astimezone(pytz.timezone('Europe/Vilnius'))\n",
        "  get_year = lambda x: convert_tz(x).year\n",
        "  get_month = lambda x: '{}-{:02}'.format(convert_tz(x).year, convert_tz(x).month)\n",
        "  get_date = lambda x: '{}-{:02}-{:02}'.format(convert_tz(x).year, convert_tz(x).month, convert_tz(x).day)\n",
        "  get_day = lambda x: convert_tz(x).day\n",
        "  get_hour = lambda x: convert_tz(x).hour\n",
        "  get_minute = lambda x: convert_tz(x).minute\n",
        "  get_day_of_week = lambda x: convert_tz(x).weekday()\n",
        "\n",
        "\n",
        "  steps['startDate'] = pd.to_datetime(steps['startDate'])\n",
        "  steps['year'] = steps['startDate'].map(get_year)\n",
        "  steps['month'] = steps['startDate'].map(get_month)\n",
        "  steps['date'] = steps['startDate'].map(get_date)\n",
        "  steps['day'] = steps['startDate'].map(get_day)\n",
        "  steps['hour'] = steps['startDate'].map(get_hour)\n",
        "  steps['dow'] = steps['startDate'].map(get_day_of_week)\n",
        "\n",
        "  corona_start = steps[steps.date == \"2020-03-10\"].index[0]\n",
        "  steps = steps.iloc[:corona_start, :]\n",
        "\n",
        "  return steps.groupby(grouping)['value'].sum().reset_index(name='Steps')\n",
        "\n",
        "\n",
        "def prepare_sequence(sequence, n_previous, n_future):\n",
        "    \"\"\"\n",
        "    Input: \n",
        "        - sequence: numpy array, pandas DataFrame or list; input sequence\n",
        "        - n_previous: int; number of past data points (N)\n",
        "        - n_future: int; number of data points to be predicted (K)\n",
        "    Returns:\n",
        "        - X: (seq. length x n_previous) numpy array with the previous observations\n",
        "        - y: (seq. length x n_fututre) numpy array with the target observations\n",
        "    \"\"\"\n",
        "    \n",
        "    X, y = [], []\n",
        "    idx, i = 0, 0\n",
        "    while idx+n_future <= len(sequence)-1:\n",
        "        idx = i + n_previous\n",
        "        X.append(sequence[i:idx])\n",
        "        y.append(sequence[idx:idx+n_future])\n",
        "        i += 1\n",
        "        \n",
        "    return np.array(X), np.array(y)\n",
        "\n",
        "\n",
        "def season(month):\n",
        "    if month in [12, 1, 2]:\n",
        "        return 0\n",
        "    elif month in [3, 4, 5]:\n",
        "        return 1\n",
        "    elif month in [6, 7, 8]:\n",
        "        return 2\n",
        "    elif month in [9, 10, 11]:\n",
        "        return 3\n",
        "\n",
        "\n",
        "def augment(steps):\n",
        "    augmented = steps.groupby(['date'])['value'].sum().reset_index(name='Steps')\n",
        "    dow = steps.groupby(['date']).mean()['dow']\n",
        "    augmented['dow'] = (dow.apply(int)).to_list()\n",
        "    month = augmented.date.apply(lambda a: int(a.split('-')[1]))\n",
        "    augmented['season'] = month.apply(season)\n",
        "    \n",
        "    return augmented"
      ],
      "execution_count": null,
      "outputs": []
    },
    {
      "cell_type": "markdown",
      "metadata": {
        "id": "tS1V8NkC3UFA"
      },
      "source": [
        "# Load and prepare the data"
      ]
    },
    {
      "cell_type": "code",
      "metadata": {
        "id": "ifv_LNs82qOa"
      },
      "source": [
        "steps_by_date = convert_steps(data)\n",
        "steps_by_date_hour = convert_steps(data, ['date', 'hour'])\n",
        "\n",
        "# Remove an invalid day\n",
        "#steps_by_date = steps_by_date.iloc#[:-1]\n",
        "\n",
        "# Replace the unrealistic values with the median\n",
        "steps_by_date.Steps[steps_by_date.Steps < 300] = steps_by_date.Steps.median()\n",
        "\n",
        "# Augent the data\n",
        "augmented_steps_by_date = augment(data)\n",
        "#augmented_steps_by_date = augmented_steps_by_date.iloc[:-1]\n",
        "augmented_steps_by_date.Steps[augmented_steps_by_date.Steps < 300] = augmented_steps_by_date.Steps.median()\n",
        "augmented_steps_by_date = pd.concat([augmented_steps_by_date.Steps, pd.DataFrame(to_categorical(augmented_steps_by_date.dow))], axis=1)"
      ],
      "execution_count": null,
      "outputs": []
    },
    {
      "cell_type": "markdown",
      "metadata": {
        "id": "EuWi9lCARjU3"
      },
      "source": [
        "## Prepare the data for different models"
      ]
    },
    {
      "cell_type": "code",
      "metadata": {
        "id": "fIWlZIL0T90k"
      },
      "source": [
        "class Configuration:\n",
        "  def __init__(self, name, model, n, k, X_train, y_train, X_val, y_val, X_test,\n",
        "               y_test, predictions, scaler, m_batch_size=8, history=None):\n",
        "    self.name = name\n",
        "    self.model = model\n",
        "    self.n = n\n",
        "    self.k = k\n",
        "    self.X_train = X_train\n",
        "    self.y_train = y_train\n",
        "    self.X_val = X_val\n",
        "    self.y_val = y_val\n",
        "    self.X_test = X_test\n",
        "    self.y_test = y_test\n",
        "    self.predictions = predictions\n",
        "    self.scaler = scaler\n",
        "    self.m_batch_size = m_batch_size\n",
        "\n",
        "  def __repr__(self):\n",
        "    return \"{}, {}, {}, {}, {}, {}, {}\".format(\n",
        "        self.name, self.n, self.k, self.X_train.shape,\n",
        "        self.y_train.shape, self.X_test.shape, self.y_test.shape)\n",
        "    \n",
        "  def plot_predictions(self):\n",
        "    if self.k == 1 and self.predictions is not None:\n",
        "      plt.figure(figsize=(20, 5))\n",
        "      plt.plot(self.y_test.squeeze())\n",
        "      plt.plot(self.predictions)\n",
        "    else:\n",
        "      print(\"k > 1\")\n",
        "\n",
        "  def plot_history(self):\n",
        "    if history is not None:\n",
        "      plt.figure(figsize=(20, 5))\n",
        "      plt.plot(self.history.history['loss'])\n",
        "      plt.plot(self.history.history['val_loss'])\n",
        "      plt.plot(self.history.history['mean_absolute_error'])\n",
        "      plt.plot(self.history.history['val_mean_absolute_error'])\n",
        "      plt.legend()"
      ],
      "execution_count": null,
      "outputs": []
    },
    {
      "cell_type": "code",
      "metadata": {
        "id": "8QTtA9MgQ0nh"
      },
      "source": [
        "def prepare_data(data, n_k, models):\n",
        "    # Split to training, validation and test sets\n",
        "    n = len(data)\n",
        "    train_data = data[0:int(n*0.8)]\n",
        "    val_data = data[int(n*0.8):int(n*0.9)]\n",
        "    test_data = data[int(n*0.9):]\n",
        "\n",
        "    # Normalize the data with MinMax normalization\n",
        "    scaler = MinMaxScaler() \n",
        "    train_data = scaler.fit_transform(train_data.to_numpy().reshape(-1, 1))\n",
        "    val_data = scaler.transform(val_data.to_numpy().reshape(-1, 1))\n",
        "    test_data = scaler.transform(test_data.to_numpy().reshape(-1, 1))\n",
        "\n",
        "    for n, k in n_k:\n",
        "        # Split data into windows\n",
        "        X_train, y_train = prepare_sequence(\n",
        "            np.concatenate((train_data, val_data[:k])), n, k)\n",
        "        X_val, y_val = prepare_sequence(\n",
        "            np.concatenate((val_data, test_data[:k])), n, k)\n",
        "        X_test, y_test = prepare_sequence(test_data, n, k)\n",
        "\n",
        "        # Add baseline\n",
        "        models[f\"Baseline_{n}_{k}\"] = Configuration(\n",
        "            name=\"Baseline\",\n",
        "            model=None,\n",
        "            n=n, k=k,\n",
        "            X_train=X_train, y_train=y_train,\n",
        "            X_val=X_val, y_val=y_val,\n",
        "            X_test=X_test, y_test=y_test, \n",
        "            predictions=None,\n",
        "            scaler=scaler\n",
        "            )\n",
        "        \n",
        "        # Add RNNs\n",
        "        for name in [\"LSTM\", \"BLSTM\", \"SimpleRNN\", \"GRU\"]:\n",
        "            # Reshape to (samples, timesteps, features)\n",
        "            X_train = X_train.reshape(X_train.shape[0], X_train.shape[1], 1)\n",
        "            X_test = X_test.reshape(X_test.shape[0], X_test.shape[1], 1)\n",
        "            # Add to models\n",
        "            models[name+f\"_{n}_{k}\"] = Configuration(\n",
        "                name=name,\n",
        "                model=None,\n",
        "                n=n, k=k,\n",
        "                X_train=X_train, y_train=y_train,\n",
        "                X_val=X_val, y_val=y_val,\n",
        "                X_test=X_test, y_test=y_test, \n",
        "                predictions=None,\n",
        "                scaler=scaler,\n",
        "                m_batch_size=6\n",
        "                )\n",
        "\n",
        "        # Add ConvLSTM\n",
        "        if n%2 != 0:\n",
        "            X_train, y_train = prepare_sequence(train_data.tolist()+val_data.tolist()[:k], n+1, k)\n",
        "            X_val, y_val = prepare_sequence(val_data.tolist()+test_data.tolist()[:k], n+1, k)\n",
        "            X_test, y_test = prepare_sequence(test_data, n+1, k)\n",
        "        else:\n",
        "            X_train, y_train = prepare_sequence(train_data.tolist()+val_data.tolist()[:k], n, k)\n",
        "            X_val, y_val = prepare_sequence(val_data.tolist()+test_data.tolist()[:k], n, k)\n",
        "            X_test, y_test = prepare_sequence(test_data, n, k)\n",
        "\n",
        "        X_train = X_train.reshape(X_train.shape[0], 2, 1, X_train.shape[1]//2, 1)\n",
        "        X_val = X_val.reshape(X_val.shape[0], 2, 1, X_val.shape[1]//2, 1)\n",
        "        X_test = X_test.reshape(X_test.shape[0], 2, 1, X_test.shape[1]//2, 1)\n",
        "\n",
        "        models[f\"ConvLSTM_{n}_{k}\"] = Configuration(\n",
        "            name=\"ConvLSTM\",\n",
        "            model=None, \n",
        "            n=n, k=k,\n",
        "            X_train=X_train, y_train=y_train,\n",
        "            X_val=X_val, y_val=y_val,\n",
        "            X_test=X_test, y_test=y_test, \n",
        "            predictions=None,\n",
        "            scaler=scaler,\n",
        "            m_batch_size=8)\n"
      ],
      "execution_count": null,
      "outputs": []
    },
    {
      "cell_type": "code",
      "metadata": {
        "id": "pwZQu_aifDq0"
      },
      "source": [
        "n_k_date = [(7, 1), (14, 1)]\n",
        "n_k_hour = [(24, 24), (48, 24), (72, 24)]\n",
        "models = dict()\n",
        "\n",
        "prepare_data(steps_by_date.Steps, n_k_date, models)\n",
        "prepare_data(steps_by_date_hour.Steps, n_k_hour, models)"
      ],
      "execution_count": null,
      "outputs": []
    },
    {
      "cell_type": "markdown",
      "metadata": {
        "id": "fRjoXjg2rJfd"
      },
      "source": [
        "# Pipeline"
      ]
    },
    {
      "cell_type": "code",
      "metadata": {
        "id": "ruRE2nS41Flw"
      },
      "source": [
        "results = pd.DataFrame(columns=[\"Model\", \"N_K\", \"MAE\", \"RMSE\", \"Error_Steps\"])"
      ],
      "execution_count": null,
      "outputs": []
    },
    {
      "cell_type": "markdown",
      "metadata": {
        "id": "lmVCgJ7H4TzK"
      },
      "source": [
        "## Baseline"
      ]
    },
    {
      "cell_type": "code",
      "metadata": {
        "id": "4mSpAjaH23GN"
      },
      "source": [
        "\"\"\"def average(history, n, k):\n",
        "  if k == 1:\n",
        "    return np.mean(history[-n:])\n",
        "  else:\n",
        "    predictions = []\n",
        "    while k != 0:\n",
        "      prediction = np.mean(history[-n:])\n",
        "      predictions.append(prediction)\n",
        "      history = np.append(history, prediction)\n",
        "      k -= 1\n",
        "    return predictions\"\"\"\n",
        "\n",
        "def naive(X_test, n, k):\n",
        "    if k == 1:\n",
        "        return X_test[:, -1].flatten()\n",
        "    \n",
        "    predictions = []\n",
        "    for i in range(len(X_test)):\n",
        "        t = k\n",
        "        curr_window = X_test[i, :]\n",
        "        curr_predictions = []\n",
        "        while t != 0:\n",
        "            prediction = curr_window[-1]\n",
        "            curr_predictions.append(prediction)\n",
        "            curr_window = np.append(curr_predictions, prediction)\n",
        "            t -= 1\n",
        "        predictions.append(curr_predictions)\n",
        "    return predictions"
      ],
      "execution_count": null,
      "outputs": []
    },
    {
      "cell_type": "code",
      "metadata": {
        "id": "qieYDV6E23M2",
        "colab": {
          "base_uri": "https://localhost:8080/"
        },
        "outputId": "32338265-7fba-4a17-a81e-302a8767a090"
      },
      "source": [
        "row = 0\n",
        "\n",
        "\n",
        "for key in models.keys():\n",
        "  if key.startswith(\"Baseline\"):\n",
        "    print(f\"{key}\")\n",
        "    current = models[key]\n",
        "\n",
        "    \"\"\"history = models[key].X_train.flatten()\n",
        "\n",
        "    # Predict\n",
        "    baseline_predictions = list()\n",
        "    for t in range(len(models[key].y_test)):\n",
        "        baseline_predictions.append(average(history, models[key].n, models[key].k))\n",
        "        history = np.append(history, models[key].y_test.squeeze()[t])\"\"\"\n",
        "\n",
        "    # Predict\n",
        "    baseline_predictions = naive(current.X_test, current.n, current.k)\n",
        "    models[key].predictions = baseline_predictions\n",
        "\n",
        "    # Evaluate\n",
        "    rmse = sqrt(mean_squared_error(current.y_test.squeeze(), baseline_predictions))\n",
        "    mae = mean_absolute_error(current.y_test.squeeze(), baseline_predictions)\n",
        "    error_steps = int(\n",
        "        current.scaler.inverse_transform(np.array(mae).reshape(1, -1))[0][0])\n",
        "    print(f\"MAE: {mae}\\nRMSE: {rmse}\\nMAE in steps: {error_steps}\\n\")\n",
        "\n",
        "    results.loc[row] = [\n",
        "                        \"Baseline\", \"{}_{}\".format(current.n, current.k),\n",
        "                        round(mae, 4),\n",
        "                        round(rmse, 4),\n",
        "                        error_steps]\n",
        "\n",
        "    row += 1"
      ],
      "execution_count": null,
      "outputs": [
        {
          "output_type": "stream",
          "text": [
            "Baseline_7_1\n",
            "MAE: 0.11301282082283469\n",
            "RMSE: 0.15260223140764395\n",
            "MAE in steps: 3638\n",
            "\n",
            "Baseline_14_1\n",
            "MAE: 0.11262416448780238\n",
            "RMSE: 0.1536436458787797\n",
            "MAE in steps: 3626\n",
            "\n",
            "Baseline_24_24\n",
            "MAE: 0.09439987310452636\n",
            "RMSE: 0.1312598478102069\n",
            "MAE in steps: 798\n",
            "\n",
            "Baseline_48_24\n",
            "MAE: 0.09430587338025039\n",
            "RMSE: 0.13126687196260914\n",
            "MAE in steps: 797\n",
            "\n",
            "Baseline_72_24\n",
            "MAE: 0.0941613503346036\n",
            "RMSE: 0.13124635608724658\n",
            "MAE in steps: 796\n",
            "\n"
          ],
          "name": "stdout"
        }
      ]
    },
    {
      "cell_type": "markdown",
      "metadata": {
        "id": "oh3G80eT3WeD"
      },
      "source": [
        "## LSTM"
      ]
    },
    {
      "cell_type": "code",
      "metadata": {
        "id": "Uj4z68auFiZY"
      },
      "source": [
        "def vanilla_LSTM(n_units, n_timesteps, n_features, next_predicted=1):\n",
        "  model = Sequential()\n",
        "  model.add(\n",
        "      LSTM(n_units, input_shape=(n_timesteps, n_features), activation='tanh'))\n",
        "  model.add(Dense(next_predicted))\n",
        "  model.compile(optimizer='adam', loss='mse', metrics=['mean_absolute_error'])\n",
        "  return model"
      ],
      "execution_count": null,
      "outputs": []
    },
    {
      "cell_type": "code",
      "metadata": {
        "colab": {
          "base_uri": "https://localhost:8080/"
        },
        "id": "YXjS2ORT2vST",
        "outputId": "314a48c9-9c0a-447f-91df-8e312b8ef181"
      },
      "source": [
        "for key in models.keys():\n",
        "  if key.startswith(\"LSTM\"):\n",
        "    print(f\"{key} model is training\")\n",
        "    current = models[key]\n",
        "\n",
        "    # Input shape\n",
        "    _, n_timestamps, n_features = current.X_train.shape\n",
        "\n",
        "    # Build model\n",
        "    model = vanilla_LSTM(1, n_timestamps, n_features, current.k)\n",
        "\n",
        "    # Fit the model\n",
        "    history = model.fit(\n",
        "        current.X_train,\n",
        "        current.y_train,\n",
        "        epochs=300,\n",
        "        validation_data=(current.X_val, current.y_val),\n",
        "        verbose=0,\n",
        "        shuffle=False,\n",
        "        batch_size=current.m_batch_size,\n",
        "        callbacks=[EarlyStopping(\n",
        "            monitor='val_mean_absolute_error',\n",
        "            min_delta=0.0000001,\n",
        "            patience=20,\n",
        "            restore_best_weights=True)])\n",
        "\n",
        "    # Predict\n",
        "    predictions = model.predict(current.X_test)\n",
        "    models[key].predictions = predictions\n",
        "    models[key].history = history\n",
        "\n",
        "    # Evaluate\n",
        "    rmse = sqrt(mean_squared_error(current.y_test.squeeze(), predictions))\n",
        "    mae = mean_absolute_error(current.y_test.squeeze(), predictions)\n",
        "    error_steps = int(\n",
        "        current.scaler.inverse_transform(np.array(mae).reshape(1, -1))[0][0])\n",
        "    print(f\"MAE: {mae}\\nRMSE: {rmse}\\nMAE in steps: {error_steps}\\n\")\n",
        "\n",
        "    results.loc[row] = [\n",
        "                        \"LSTM\", \"{}_{}\".format(current.n, current.k),\n",
        "                        round(mae, 4),\n",
        "                        round(rmse, 4),\n",
        "                        error_steps]\n",
        "\n",
        "    row += 1"
      ],
      "execution_count": null,
      "outputs": [
        {
          "output_type": "stream",
          "text": [
            "LSTM_7_1 model is training\n",
            "MAE: 0.08580859203982681\n",
            "RMSE: 0.11525994203677657\n",
            "MAE in steps: 2834\n",
            "\n",
            "LSTM_14_1 model is training\n",
            "MAE: 0.08525206608652369\n",
            "RMSE: 0.11510104839714046\n",
            "MAE in steps: 2818\n",
            "\n",
            "LSTM_24_24 model is training\n",
            "MAE: 0.07266113585878331\n",
            "RMSE: 0.09497987634412339\n",
            "MAE in steps: 614\n",
            "\n",
            "LSTM_48_24 model is training\n",
            "MAE: 0.07254752037597054\n",
            "RMSE: 0.09488841776691537\n",
            "MAE in steps: 613\n",
            "\n",
            "LSTM_72_24 model is training\n",
            "MAE: 0.07258703843326574\n",
            "RMSE: 0.0948113198122827\n",
            "MAE in steps: 613\n",
            "\n"
          ],
          "name": "stdout"
        }
      ]
    },
    {
      "cell_type": "markdown",
      "metadata": {
        "id": "k-KRA8Yc3ceV"
      },
      "source": [
        "## BLSTM"
      ]
    },
    {
      "cell_type": "code",
      "metadata": {
        "id": "j8j4sKuvHTf-"
      },
      "source": [
        "def BLSTM(output_size, n_timestamps, n_features, next_predicted=1):\n",
        "  model = Sequential()\n",
        "  model.add(Bidirectional(\n",
        "      LSTM(output_size, activation='tanh'),\n",
        "      input_shape=(n_timestamps, n_features)))\n",
        "  model.add(Dense(next_predicted))\n",
        "  model.compile(optimizer='adam', loss='mse', metrics=['mean_absolute_error'])\n",
        "  return model"
      ],
      "execution_count": null,
      "outputs": []
    },
    {
      "cell_type": "code",
      "metadata": {
        "colab": {
          "base_uri": "https://localhost:8080/"
        },
        "id": "NZgbylDlHbHh",
        "outputId": "0e2934af-ac6b-458f-fc6f-5e3929de227e"
      },
      "source": [
        "for key in models.keys():\n",
        "  if key.startswith(\"BLSTM\"):\n",
        "    print(f\"{key} model is training\")\n",
        "    current = models[key]\n",
        "\n",
        "    # Input shape\n",
        "    _, n_timestamps, n_features = current.X_train.shape\n",
        "\n",
        "    # Build model\n",
        "    model = BLSTM(1, n_timestamps, n_features, current.k)\n",
        "    \n",
        "    # Fit the model\n",
        "    history = model.fit(\n",
        "        current.X_train,\n",
        "        current.y_train,\n",
        "        epochs=300,\n",
        "        verbose=0,\n",
        "        validation_data=(current.X_val, current.y_val),\n",
        "        shuffle=False,\n",
        "        batch_size=current.m_batch_size,\n",
        "        callbacks=[EarlyStopping(\n",
        "            monitor='val_mean_absolute_error',\n",
        "            min_delta=0.0000001,\n",
        "            patience=20,\n",
        "            restore_best_weights=True)])\n",
        "    models[key].history = history\n",
        "\n",
        "    # Predict\n",
        "    predictions = model.predict(current.X_test)\n",
        "    models[key].predictions = predictions\n",
        "    \n",
        "    rmse = sqrt(mean_squared_error(current.y_test.squeeze(), predictions))\n",
        "    mae = mean_absolute_error(current.y_test.squeeze(), predictions)\n",
        "    error_steps = int(\n",
        "        current.scaler.inverse_transform(np.array(mae).reshape(1, -1))[0][0])\n",
        "    print(f\"MAE: {mae}\\nRMSE: {rmse}\\nMAE in steps: {error_steps}\\n\")\n",
        "\n",
        "    results.loc[row] = [\n",
        "                        \"BLSTM\", \"{}_{}\".format(current.n, current.k),\n",
        "                        round(mae, 4),\n",
        "                        round(rmse, 4),\n",
        "                        error_steps]\n",
        "    row += 1"
      ],
      "execution_count": null,
      "outputs": [
        {
          "output_type": "stream",
          "text": [
            "BLSTM_7_1 model is training\n",
            "MAE: 0.08511440672452893\n",
            "RMSE: 0.11336875492801836\n",
            "MAE in steps: 2814\n",
            "\n",
            "BLSTM_14_1 model is training\n",
            "MAE: 0.08650681153480907\n",
            "RMSE: 0.11499356917146751\n",
            "MAE in steps: 2855\n",
            "\n",
            "BLSTM_24_24 model is training\n",
            "MAE: 0.07272161058951447\n",
            "RMSE: 0.09493906623777305\n",
            "MAE in steps: 615\n",
            "\n",
            "BLSTM_48_24 model is training\n",
            "MAE: 0.07260261126340618\n",
            "RMSE: 0.09487302896617994\n",
            "MAE in steps: 614\n",
            "\n",
            "BLSTM_72_24 model is training\n",
            "MAE: 0.0725509805805773\n",
            "RMSE: 0.09485316446051617\n",
            "MAE in steps: 613\n",
            "\n"
          ],
          "name": "stdout"
        }
      ]
    },
    {
      "cell_type": "markdown",
      "metadata": {
        "id": "64RQPlpK3hct"
      },
      "source": [
        "## Simple RNN"
      ]
    },
    {
      "cell_type": "code",
      "metadata": {
        "id": "fhhGuCSmHyHX"
      },
      "source": [
        "def simple_RNN(output_size, n_timestamps, n_features, next_predicted=1):\n",
        "  model = Sequential()\n",
        "  model.add(\n",
        "      SimpleRNN(\n",
        "          output_size,\n",
        "          activation='tanh',\n",
        "          input_shape=(n_timestamps, n_features)))\n",
        "  model.add(Dense(next_predicted))\n",
        "  model.compile(optimizer='adam', loss='mse', metrics=['mean_absolute_error'])\n",
        "\n",
        "  return model"
      ],
      "execution_count": null,
      "outputs": []
    },
    {
      "cell_type": "code",
      "metadata": {
        "colab": {
          "base_uri": "https://localhost:8080/"
        },
        "id": "pYkeb1DEIFkO",
        "outputId": "5acbc44f-b193-4a7f-b8e5-fd1c3cd30524"
      },
      "source": [
        "for key in models.keys():\n",
        "  if key.startswith(\"SimpleRNN\"):\n",
        "    print(f\"{key} model is training\")\n",
        "    current = models[key]\n",
        "\n",
        "    # Input shape\n",
        "    _, n_timestamps, n_features = current.X_train.shape\n",
        "\n",
        "    # Build model\n",
        "    model = simple_RNN(1, n_timestamps, n_features, current.k)\n",
        "\n",
        "    # Fit the model\n",
        "    history = model.fit(\n",
        "        current.X_train,\n",
        "        current.y_train,\n",
        "        epochs=300,\n",
        "        verbose=0,\n",
        "        validation_data=(current.X_val, current.y_val),\n",
        "        shuffle=False,\n",
        "        batch_size=current.m_batch_size,\n",
        "        callbacks=[EarlyStopping(\n",
        "            monitor='val_mean_absolute_error',\n",
        "            min_delta=0.0000001,\n",
        "            patience=20,\n",
        "            restore_best_weights=True)])\n",
        "    models[key].history = history\n",
        "\n",
        "    # Predict\n",
        "    predictions = model.predict(current.X_test)\n",
        "    models[key].predictions = predictions\n",
        "\n",
        "    rmse = sqrt(mean_squared_error(current.y_test.squeeze(), predictions))\n",
        "    mae = mean_absolute_error(current.y_test.squeeze(), predictions)\n",
        "    error_steps = int(\n",
        "        current.scaler.inverse_transform(np.array(mae).reshape(1, -1))[0][0])\n",
        "    print(f\"MAE: {mae}\\nRMSE: {rmse}\\nMAE in steps: {error_steps}\\n\")\n",
        "\n",
        "    results.loc[row] = [\n",
        "                        \"SimpleRNN\", \"{}_{}\".format(current.n, current.k),\n",
        "                        round(mae, 4),\n",
        "                        round(rmse, 4),\n",
        "                        error_steps]\n",
        "    row += 1"
      ],
      "execution_count": null,
      "outputs": [
        {
          "output_type": "stream",
          "text": [
            "SimpleRNN_7_1 model is training\n",
            "MAE: 0.08659321995149465\n",
            "RMSE: 0.11471860500078433\n",
            "MAE in steps: 2857\n",
            "\n",
            "SimpleRNN_14_1 model is training\n",
            "MAE: 0.08921648240474735\n",
            "RMSE: 0.11799922771533718\n",
            "MAE in steps: 2935\n",
            "\n",
            "SimpleRNN_24_24 model is training\n",
            "MAE: 0.07269197088988706\n",
            "RMSE: 0.09509628116897445\n",
            "MAE in steps: 614\n",
            "\n",
            "SimpleRNN_48_24 model is training\n",
            "MAE: 0.07250570146709263\n",
            "RMSE: 0.09483455023064304\n",
            "MAE in steps: 613\n",
            "\n",
            "SimpleRNN_72_24 model is training\n",
            "MAE: 0.07251836751476669\n",
            "RMSE: 0.09478016960068142\n",
            "MAE in steps: 613\n",
            "\n"
          ],
          "name": "stdout"
        }
      ]
    },
    {
      "cell_type": "markdown",
      "metadata": {
        "id": "JR_uJNZQ3kaB"
      },
      "source": [
        "## ConvLSTM"
      ]
    },
    {
      "cell_type": "code",
      "metadata": {
        "id": "xip2y-sSJqyN"
      },
      "source": [
        "def Conv_LSTM(n_seq, n_steps, n_features, next_predicted=1):\n",
        "  model = Sequential()\n",
        "  model.add(\n",
        "      ConvLSTM2D(\n",
        "          filters=64,\n",
        "          kernel_size=(1,3),\n",
        "          activation='tanh',\n",
        "          input_shape=(n_seq, 1, n_steps, n_features)\n",
        "          )\n",
        "      )\n",
        "  model.add(Flatten())\n",
        "  model.add(Dense(next_predicted))\n",
        "  model.compile(optimizer='adam', loss='mse', metrics=['mean_absolute_error'])\n",
        "  return model"
      ],
      "execution_count": null,
      "outputs": []
    },
    {
      "cell_type": "code",
      "metadata": {
        "colab": {
          "base_uri": "https://localhost:8080/"
        },
        "id": "jOOEi6QrJ47Z",
        "outputId": "6c1863db-80e6-409e-e394-f2bfc629fd68"
      },
      "source": [
        "for key in models.keys():\n",
        "  if key.startswith(\"ConvLSTM\"):\n",
        "    print(f\"{key} model is training\")\n",
        "    current = models[key]\n",
        "\n",
        "    # Input shape\n",
        "    _, n_seq, _, n_timestamps, n_features = current.X_train.shape\n",
        "\n",
        "    # Build model\n",
        "    model = Conv_LSTM(n_seq, n_timestamps, n_features, models[key].k)\n",
        "\n",
        "    # Fit the model\n",
        "    history = model.fit(\n",
        "        current.X_train,\n",
        "        current.y_train,\n",
        "        epochs=300,\n",
        "        verbose=0,\n",
        "        validation_data=(current.X_val, current.y_val),\n",
        "        shuffle=False,\n",
        "        batch_size=current.m_batch_size,\n",
        "        callbacks=[EarlyStopping(\n",
        "            monitor='val_mean_absolute_error',\n",
        "            min_delta=0.0000001,\n",
        "            patience=20,\n",
        "            restore_best_weights=True)])\n",
        "    models[key].history = history\n",
        "\n",
        "    # Predict\n",
        "    predictions = model.predict(current.X_test)\n",
        "    models[key].predictions = predictions\n",
        "\n",
        "    rmse = sqrt(mean_squared_error(current.y_test.squeeze(), predictions))\n",
        "    mae = mean_absolute_error(current.y_test.squeeze(), predictions)\n",
        "    error_steps = int(\n",
        "        current.scaler.inverse_transform(np.array(mae).reshape(1, -1))[0][0]\n",
        "        )\n",
        "    print(f\"MAE: {mae}\\nRMSE: {rmse}\\nMAE in steps: {error_steps}\\n\")\n",
        "\n",
        "    results.loc[row] = [\n",
        "                        \"ConvLSTM\", \"{}_{}\".format(current.n, current.k),\n",
        "                        round(mae, 4),\n",
        "                        round(rmse, 4),\n",
        "                        error_steps]\n",
        "    row += 1"
      ],
      "execution_count": null,
      "outputs": [
        {
          "output_type": "stream",
          "text": [
            "ConvLSTM_7_1 model is training\n",
            "MAE: 0.08544415530266183\n",
            "RMSE: 0.11507429675698207\n",
            "MAE in steps: 2823\n",
            "\n",
            "ConvLSTM_14_1 model is training\n",
            "MAE: 0.08734779820386786\n",
            "RMSE: 0.11776477785487784\n",
            "MAE in steps: 2880\n",
            "\n",
            "ConvLSTM_24_24 model is training\n",
            "MAE: 0.07289231300407079\n",
            "RMSE: 0.09489765450738168\n",
            "MAE in steps: 616\n",
            "\n",
            "ConvLSTM_48_24 model is training\n",
            "MAE: 0.07302865302381766\n",
            "RMSE: 0.09487852383210715\n",
            "MAE in steps: 617\n",
            "\n",
            "ConvLSTM_72_24 model is training\n",
            "MAE: 0.07309213501312915\n",
            "RMSE: 0.09492097427125074\n",
            "MAE in steps: 618\n",
            "\n"
          ],
          "name": "stdout"
        }
      ]
    },
    {
      "cell_type": "markdown",
      "metadata": {
        "id": "HoD9rtU_umPE"
      },
      "source": [
        "# Results"
      ]
    },
    {
      "cell_type": "code",
      "metadata": {
        "colab": {
          "base_uri": "https://localhost:8080/",
          "height": 235
        },
        "id": "Re-K5d8Lt4gW",
        "outputId": "77c127b0-b5fc-4ada-c554-9baa0156f34a"
      },
      "source": [
        "results[results.N_K == \"7_1\"].sort_values(\"MAE\")"
      ],
      "execution_count": null,
      "outputs": [
        {
          "output_type": "execute_result",
          "data": {
            "text/html": [
              "<div>\n",
              "<style scoped>\n",
              "    .dataframe tbody tr th:only-of-type {\n",
              "        vertical-align: middle;\n",
              "    }\n",
              "\n",
              "    .dataframe tbody tr th {\n",
              "        vertical-align: top;\n",
              "    }\n",
              "\n",
              "    .dataframe thead th {\n",
              "        text-align: right;\n",
              "    }\n",
              "</style>\n",
              "<table border=\"1\" class=\"dataframe\">\n",
              "  <thead>\n",
              "    <tr style=\"text-align: right;\">\n",
              "      <th></th>\n",
              "      <th>Model</th>\n",
              "      <th>N_K</th>\n",
              "      <th>MAE</th>\n",
              "      <th>RMSE</th>\n",
              "      <th>Error_Steps</th>\n",
              "    </tr>\n",
              "  </thead>\n",
              "  <tbody>\n",
              "    <tr>\n",
              "      <th>12</th>\n",
              "      <td>BLSTM</td>\n",
              "      <td>7_1</td>\n",
              "      <td>0.0851</td>\n",
              "      <td>0.1134</td>\n",
              "      <td>2814</td>\n",
              "    </tr>\n",
              "    <tr>\n",
              "      <th>22</th>\n",
              "      <td>ConvLSTM</td>\n",
              "      <td>7_1</td>\n",
              "      <td>0.0854</td>\n",
              "      <td>0.1151</td>\n",
              "      <td>2823</td>\n",
              "    </tr>\n",
              "    <tr>\n",
              "      <th>7</th>\n",
              "      <td>LSTM</td>\n",
              "      <td>7_1</td>\n",
              "      <td>0.0858</td>\n",
              "      <td>0.1153</td>\n",
              "      <td>2834</td>\n",
              "    </tr>\n",
              "    <tr>\n",
              "      <th>17</th>\n",
              "      <td>SimpleRNN</td>\n",
              "      <td>7_1</td>\n",
              "      <td>0.0866</td>\n",
              "      <td>0.1147</td>\n",
              "      <td>2857</td>\n",
              "    </tr>\n",
              "    <tr>\n",
              "      <th>5</th>\n",
              "      <td>LSTM</td>\n",
              "      <td>7_1</td>\n",
              "      <td>0.0945</td>\n",
              "      <td>0.1233</td>\n",
              "      <td>3092</td>\n",
              "    </tr>\n",
              "    <tr>\n",
              "      <th>0</th>\n",
              "      <td>Baseline</td>\n",
              "      <td>7_1</td>\n",
              "      <td>0.1130</td>\n",
              "      <td>0.1526</td>\n",
              "      <td>3638</td>\n",
              "    </tr>\n",
              "  </tbody>\n",
              "</table>\n",
              "</div>"
            ],
            "text/plain": [
              "        Model  N_K     MAE    RMSE Error_Steps\n",
              "12      BLSTM  7_1  0.0851  0.1134        2814\n",
              "22   ConvLSTM  7_1  0.0854  0.1151        2823\n",
              "7        LSTM  7_1  0.0858  0.1153        2834\n",
              "17  SimpleRNN  7_1  0.0866  0.1147        2857\n",
              "5        LSTM  7_1  0.0945  0.1233        3092\n",
              "0    Baseline  7_1  0.1130  0.1526        3638"
            ]
          },
          "metadata": {
            "tags": []
          },
          "execution_count": 151
        }
      ]
    },
    {
      "cell_type": "code",
      "metadata": {
        "colab": {
          "base_uri": "https://localhost:8080/",
          "height": 235
        },
        "id": "bwhX-gqyuWaq",
        "outputId": "340ed157-edbc-45e2-8fdf-9964da6f3b4b"
      },
      "source": [
        "results[results.N_K == \"14_1\"].sort_values(\"MAE\")"
      ],
      "execution_count": null,
      "outputs": [
        {
          "output_type": "execute_result",
          "data": {
            "text/html": [
              "<div>\n",
              "<style scoped>\n",
              "    .dataframe tbody tr th:only-of-type {\n",
              "        vertical-align: middle;\n",
              "    }\n",
              "\n",
              "    .dataframe tbody tr th {\n",
              "        vertical-align: top;\n",
              "    }\n",
              "\n",
              "    .dataframe thead th {\n",
              "        text-align: right;\n",
              "    }\n",
              "</style>\n",
              "<table border=\"1\" class=\"dataframe\">\n",
              "  <thead>\n",
              "    <tr style=\"text-align: right;\">\n",
              "      <th></th>\n",
              "      <th>Model</th>\n",
              "      <th>N_K</th>\n",
              "      <th>MAE</th>\n",
              "      <th>RMSE</th>\n",
              "      <th>Error_Steps</th>\n",
              "    </tr>\n",
              "  </thead>\n",
              "  <tbody>\n",
              "    <tr>\n",
              "      <th>8</th>\n",
              "      <td>LSTM</td>\n",
              "      <td>14_1</td>\n",
              "      <td>0.0853</td>\n",
              "      <td>0.1151</td>\n",
              "      <td>2818</td>\n",
              "    </tr>\n",
              "    <tr>\n",
              "      <th>13</th>\n",
              "      <td>BLSTM</td>\n",
              "      <td>14_1</td>\n",
              "      <td>0.0865</td>\n",
              "      <td>0.1150</td>\n",
              "      <td>2855</td>\n",
              "    </tr>\n",
              "    <tr>\n",
              "      <th>23</th>\n",
              "      <td>ConvLSTM</td>\n",
              "      <td>14_1</td>\n",
              "      <td>0.0873</td>\n",
              "      <td>0.1178</td>\n",
              "      <td>2880</td>\n",
              "    </tr>\n",
              "    <tr>\n",
              "      <th>18</th>\n",
              "      <td>SimpleRNN</td>\n",
              "      <td>14_1</td>\n",
              "      <td>0.0892</td>\n",
              "      <td>0.1180</td>\n",
              "      <td>2935</td>\n",
              "    </tr>\n",
              "    <tr>\n",
              "      <th>1</th>\n",
              "      <td>Baseline</td>\n",
              "      <td>14_1</td>\n",
              "      <td>0.1126</td>\n",
              "      <td>0.1536</td>\n",
              "      <td>3626</td>\n",
              "    </tr>\n",
              "    <tr>\n",
              "      <th>6</th>\n",
              "      <td>LSTM</td>\n",
              "      <td>14_1</td>\n",
              "      <td>0.1265</td>\n",
              "      <td>0.1567</td>\n",
              "      <td>4036</td>\n",
              "    </tr>\n",
              "  </tbody>\n",
              "</table>\n",
              "</div>"
            ],
            "text/plain": [
              "        Model   N_K     MAE    RMSE Error_Steps\n",
              "8        LSTM  14_1  0.0853  0.1151        2818\n",
              "13      BLSTM  14_1  0.0865  0.1150        2855\n",
              "23   ConvLSTM  14_1  0.0873  0.1178        2880\n",
              "18  SimpleRNN  14_1  0.0892  0.1180        2935\n",
              "1    Baseline  14_1  0.1126  0.1536        3626\n",
              "6        LSTM  14_1  0.1265  0.1567        4036"
            ]
          },
          "metadata": {
            "tags": []
          },
          "execution_count": 152
        }
      ]
    },
    {
      "cell_type": "code",
      "metadata": {
        "colab": {
          "base_uri": "https://localhost:8080/",
          "height": 204
        },
        "id": "FNJCLBj-uh0p",
        "outputId": "2cbf3c0f-8c30-4205-87d8-2f713b63039c"
      },
      "source": [
        "results[results.N_K == \"24_24\"].sort_values(\"MAE\")"
      ],
      "execution_count": null,
      "outputs": [
        {
          "output_type": "execute_result",
          "data": {
            "text/html": [
              "<div>\n",
              "<style scoped>\n",
              "    .dataframe tbody tr th:only-of-type {\n",
              "        vertical-align: middle;\n",
              "    }\n",
              "\n",
              "    .dataframe tbody tr th {\n",
              "        vertical-align: top;\n",
              "    }\n",
              "\n",
              "    .dataframe thead th {\n",
              "        text-align: right;\n",
              "    }\n",
              "</style>\n",
              "<table border=\"1\" class=\"dataframe\">\n",
              "  <thead>\n",
              "    <tr style=\"text-align: right;\">\n",
              "      <th></th>\n",
              "      <th>Model</th>\n",
              "      <th>N_K</th>\n",
              "      <th>MAE</th>\n",
              "      <th>RMSE</th>\n",
              "      <th>Error_Steps</th>\n",
              "    </tr>\n",
              "  </thead>\n",
              "  <tbody>\n",
              "    <tr>\n",
              "      <th>9</th>\n",
              "      <td>LSTM</td>\n",
              "      <td>24_24</td>\n",
              "      <td>0.0727</td>\n",
              "      <td>0.0950</td>\n",
              "      <td>614</td>\n",
              "    </tr>\n",
              "    <tr>\n",
              "      <th>14</th>\n",
              "      <td>BLSTM</td>\n",
              "      <td>24_24</td>\n",
              "      <td>0.0727</td>\n",
              "      <td>0.0949</td>\n",
              "      <td>615</td>\n",
              "    </tr>\n",
              "    <tr>\n",
              "      <th>19</th>\n",
              "      <td>SimpleRNN</td>\n",
              "      <td>24_24</td>\n",
              "      <td>0.0727</td>\n",
              "      <td>0.0951</td>\n",
              "      <td>614</td>\n",
              "    </tr>\n",
              "    <tr>\n",
              "      <th>24</th>\n",
              "      <td>ConvLSTM</td>\n",
              "      <td>24_24</td>\n",
              "      <td>0.0729</td>\n",
              "      <td>0.0949</td>\n",
              "      <td>616</td>\n",
              "    </tr>\n",
              "    <tr>\n",
              "      <th>2</th>\n",
              "      <td>Baseline</td>\n",
              "      <td>24_24</td>\n",
              "      <td>0.0944</td>\n",
              "      <td>0.1313</td>\n",
              "      <td>798</td>\n",
              "    </tr>\n",
              "  </tbody>\n",
              "</table>\n",
              "</div>"
            ],
            "text/plain": [
              "        Model    N_K     MAE    RMSE Error_Steps\n",
              "9        LSTM  24_24  0.0727  0.0950         614\n",
              "14      BLSTM  24_24  0.0727  0.0949         615\n",
              "19  SimpleRNN  24_24  0.0727  0.0951         614\n",
              "24   ConvLSTM  24_24  0.0729  0.0949         616\n",
              "2    Baseline  24_24  0.0944  0.1313         798"
            ]
          },
          "metadata": {
            "tags": []
          },
          "execution_count": 175
        }
      ]
    },
    {
      "cell_type": "code",
      "metadata": {
        "colab": {
          "base_uri": "https://localhost:8080/",
          "height": 204
        },
        "id": "jxZmbVZ-uttm",
        "outputId": "e24dca2f-758f-423e-a9bf-103d68777936"
      },
      "source": [
        "results[results.N_K == \"48_24\"].sort_values(\"MAE\")"
      ],
      "execution_count": null,
      "outputs": [
        {
          "output_type": "execute_result",
          "data": {
            "text/html": [
              "<div>\n",
              "<style scoped>\n",
              "    .dataframe tbody tr th:only-of-type {\n",
              "        vertical-align: middle;\n",
              "    }\n",
              "\n",
              "    .dataframe tbody tr th {\n",
              "        vertical-align: top;\n",
              "    }\n",
              "\n",
              "    .dataframe thead th {\n",
              "        text-align: right;\n",
              "    }\n",
              "</style>\n",
              "<table border=\"1\" class=\"dataframe\">\n",
              "  <thead>\n",
              "    <tr style=\"text-align: right;\">\n",
              "      <th></th>\n",
              "      <th>Model</th>\n",
              "      <th>N_K</th>\n",
              "      <th>MAE</th>\n",
              "      <th>RMSE</th>\n",
              "      <th>Error_Steps</th>\n",
              "    </tr>\n",
              "  </thead>\n",
              "  <tbody>\n",
              "    <tr>\n",
              "      <th>10</th>\n",
              "      <td>LSTM</td>\n",
              "      <td>48_24</td>\n",
              "      <td>0.0725</td>\n",
              "      <td>0.0949</td>\n",
              "      <td>613</td>\n",
              "    </tr>\n",
              "    <tr>\n",
              "      <th>20</th>\n",
              "      <td>SimpleRNN</td>\n",
              "      <td>48_24</td>\n",
              "      <td>0.0725</td>\n",
              "      <td>0.0948</td>\n",
              "      <td>613</td>\n",
              "    </tr>\n",
              "    <tr>\n",
              "      <th>15</th>\n",
              "      <td>BLSTM</td>\n",
              "      <td>48_24</td>\n",
              "      <td>0.0726</td>\n",
              "      <td>0.0949</td>\n",
              "      <td>614</td>\n",
              "    </tr>\n",
              "    <tr>\n",
              "      <th>25</th>\n",
              "      <td>ConvLSTM</td>\n",
              "      <td>48_24</td>\n",
              "      <td>0.0730</td>\n",
              "      <td>0.0949</td>\n",
              "      <td>617</td>\n",
              "    </tr>\n",
              "    <tr>\n",
              "      <th>3</th>\n",
              "      <td>Baseline</td>\n",
              "      <td>48_24</td>\n",
              "      <td>0.0943</td>\n",
              "      <td>0.1313</td>\n",
              "      <td>797</td>\n",
              "    </tr>\n",
              "  </tbody>\n",
              "</table>\n",
              "</div>"
            ],
            "text/plain": [
              "        Model    N_K     MAE    RMSE Error_Steps\n",
              "10       LSTM  48_24  0.0725  0.0949         613\n",
              "20  SimpleRNN  48_24  0.0725  0.0948         613\n",
              "15      BLSTM  48_24  0.0726  0.0949         614\n",
              "25   ConvLSTM  48_24  0.0730  0.0949         617\n",
              "3    Baseline  48_24  0.0943  0.1313         797"
            ]
          },
          "metadata": {
            "tags": []
          },
          "execution_count": 176
        }
      ]
    },
    {
      "cell_type": "code",
      "metadata": {
        "colab": {
          "base_uri": "https://localhost:8080/",
          "height": 204
        },
        "id": "O7lZFUbQusCE",
        "outputId": "ff31ac5a-4396-46f3-d300-eb6f4425ebfd"
      },
      "source": [
        "results[results.N_K == \"72_24\"].sort_values(\"MAE\")"
      ],
      "execution_count": null,
      "outputs": [
        {
          "output_type": "execute_result",
          "data": {
            "text/html": [
              "<div>\n",
              "<style scoped>\n",
              "    .dataframe tbody tr th:only-of-type {\n",
              "        vertical-align: middle;\n",
              "    }\n",
              "\n",
              "    .dataframe tbody tr th {\n",
              "        vertical-align: top;\n",
              "    }\n",
              "\n",
              "    .dataframe thead th {\n",
              "        text-align: right;\n",
              "    }\n",
              "</style>\n",
              "<table border=\"1\" class=\"dataframe\">\n",
              "  <thead>\n",
              "    <tr style=\"text-align: right;\">\n",
              "      <th></th>\n",
              "      <th>Model</th>\n",
              "      <th>N_K</th>\n",
              "      <th>MAE</th>\n",
              "      <th>RMSE</th>\n",
              "      <th>Error_Steps</th>\n",
              "    </tr>\n",
              "  </thead>\n",
              "  <tbody>\n",
              "    <tr>\n",
              "      <th>21</th>\n",
              "      <td>SimpleRNN</td>\n",
              "      <td>72_24</td>\n",
              "      <td>0.0725</td>\n",
              "      <td>0.0948</td>\n",
              "      <td>613</td>\n",
              "    </tr>\n",
              "    <tr>\n",
              "      <th>11</th>\n",
              "      <td>LSTM</td>\n",
              "      <td>72_24</td>\n",
              "      <td>0.0726</td>\n",
              "      <td>0.0948</td>\n",
              "      <td>613</td>\n",
              "    </tr>\n",
              "    <tr>\n",
              "      <th>16</th>\n",
              "      <td>BLSTM</td>\n",
              "      <td>72_24</td>\n",
              "      <td>0.0726</td>\n",
              "      <td>0.0949</td>\n",
              "      <td>613</td>\n",
              "    </tr>\n",
              "    <tr>\n",
              "      <th>26</th>\n",
              "      <td>ConvLSTM</td>\n",
              "      <td>72_24</td>\n",
              "      <td>0.0731</td>\n",
              "      <td>0.0949</td>\n",
              "      <td>618</td>\n",
              "    </tr>\n",
              "    <tr>\n",
              "      <th>4</th>\n",
              "      <td>Baseline</td>\n",
              "      <td>72_24</td>\n",
              "      <td>0.0942</td>\n",
              "      <td>0.1312</td>\n",
              "      <td>796</td>\n",
              "    </tr>\n",
              "  </tbody>\n",
              "</table>\n",
              "</div>"
            ],
            "text/plain": [
              "        Model    N_K     MAE    RMSE Error_Steps\n",
              "21  SimpleRNN  72_24  0.0725  0.0948         613\n",
              "11       LSTM  72_24  0.0726  0.0948         613\n",
              "16      BLSTM  72_24  0.0726  0.0949         613\n",
              "26   ConvLSTM  72_24  0.0731  0.0949         618\n",
              "4    Baseline  72_24  0.0942  0.1312         796"
            ]
          },
          "metadata": {
            "tags": []
          },
          "execution_count": 178
        }
      ]
    },
    {
      "cell_type": "code",
      "metadata": {
        "colab": {
          "base_uri": "https://localhost:8080/",
          "height": 360
        },
        "id": "83wFQMI0GP8-",
        "outputId": "e9cfa47b-7d47-499b-c5c9-f62e598b75cc"
      },
      "source": [
        "x = np.arange(len(results[results.N_K == \"7_1\"]))\n",
        "width = 0.3\n",
        "\n",
        "metric_name = 'MAE'\n",
        "#metric_index = lstm_model.metrics_names.index('mean_absolute_error')\n",
        "#val_mae = [v[metric_index] for v in val_performance.values()]\n",
        "test_mae = results[results.N_K == \"7_1\"].MAE\n",
        "test_rmse = results[results.N_K == \"7_1\"].RMSE\n",
        "\n",
        "plt.figure(figsize=(15, 5))\n",
        "plt.ylabel('Steps, normalized')\n",
        "#plt.bar(x - 0.17, val_mae, width, label='Validation')\n",
        "plt.bar(x + 0.17, test_mae, width, label='Test MAE')\n",
        "plt.bar(x - 0.17, test_rmse, width, label='Test RMSE')\n",
        "plt.xticks(ticks=x, labels=results[results.N_K == \"7_1\"].Model,\n",
        "           rotation=45)\n",
        "_ = plt.legend()"
      ],
      "execution_count": null,
      "outputs": [
        {
          "output_type": "display_data",
          "data": {
            "image/png": "[encoded data removed]",
            "text/plain": [
              "<Figure size 1080x360 with 1 Axes>"
            ]
          },
          "metadata": {
            "tags": [],
            "needs_background": "light"
          }
        }
      ]
    },
    {
      "cell_type": "code",
      "metadata": {
        "colab": {
          "base_uri": "https://localhost:8080/",
          "height": 356
        },
        "id": "IlJkK8QYN_Gd",
        "outputId": "eb7fa25c-708c-4312-ff50-9ed7b6afa031"
      },
      "source": [
        "x = np.arange(len(results[results.N_K == \"14_1\"]))\n",
        "width = 0.3\n",
        "\n",
        "metric_name = 'MAE'\n",
        "#metric_index = lstm_model.metrics_names.index('mean_absolute_error')\n",
        "#val_mae = [v[metric_index] for v in val_performance.values()]\n",
        "test_mae = results[results.N_K == \"14_1\"].MAE\n",
        "test_rmse = results[results.N_K == \"14_1\"].RMSE\n",
        "\n",
        "plt.figure(figsize=(15, 5))\n",
        "plt.ylabel('Steps, normalized')\n",
        "#plt.bar(x - 0.17, val_mae, width, label='Validation')\n",
        "plt.bar(x + 0.17, test_mae, width, label='Test MAE')\n",
        "plt.bar(x - 0.17, test_rmse, width, label='Test RMSE')\n",
        "plt.xticks(ticks=x, labels=results[results.N_K == \"14_1\"].Model,\n",
        "           rotation=45)\n",
        "_ = plt.legend()"
      ],
      "execution_count": null,
      "outputs": [
        {
          "output_type": "display_data",
          "data": {
            "image/png": "[encoded data removed]",
            "text/plain": [
              "<Figure size 1080x360 with 1 Axes>"
            ]
          },
          "metadata": {
            "tags": [],
            "needs_background": "light"
          }
        }
      ]
    },
    {
      "cell_type": "markdown",
      "metadata": {
        "id": "c7rUUdl5B7sj"
      },
      "source": [
        "## Save the models and configurations"
      ]
    },
    {
      "cell_type": "code",
      "metadata": {
        "id": "zTIfxBNLuu9j"
      },
      "source": [
        "with open('drive/MyDrive/Colab Notebooks/step-counts-prediction/models1.pickle', 'wb') as handle:\n",
        "    pickle.dump(models, handle, protocol=pickle.HIGHEST_PROTOCOL)"
      ],
      "execution_count": null,
      "outputs": []
    },
    {
      "cell_type": "code",
      "metadata": {
        "id": "KKike6c0Iow2"
      },
      "source": [
        ""
      ],
      "execution_count": null,
      "outputs": []
    }
  ]
}